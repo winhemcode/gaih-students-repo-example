{
  "nbformat": 4,
  "nbformat_minor": 0,
  "metadata": {
    "colab": {
      "name": "odev1.jpynb",
      "provenance": [],
      "collapsed_sections": []
    },
    "kernelspec": {
      "name": "python3",
      "display_name": "Python 3"
    }
  },
  "cells": [
    {
      "cell_type": "markdown",
      "metadata": {
        "id": "FaoZtWQtGxmu"
      },
      "source": [
        "Global AI Hub 1. Ödev Kerem Basmacı\r\n",
        "Mail: kerembasmaci.20@gmail.com"
      ]
    },
    {
      "cell_type": "markdown",
      "metadata": {
        "id": "8a44_3ilHETS"
      },
      "source": [
        "![HW1.png](data:image/png;base64,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)"
      ]
    },
    {
      "cell_type": "code",
      "metadata": {
        "id": "eWrlxkVXaZZM"
      },
      "source": [
        "even = []\r\n",
        "odd = []"
      ],
      "execution_count": 4,
      "outputs": []
    },
    {
      "cell_type": "code",
      "metadata": {
        "id": "kg6DJmWIHI0r"
      },
      "source": [
        "for i in range(100):\r\n",
        "  if(i%2==0):\r\n",
        "    even.append(i)\r\n",
        "  else:\r\n",
        "    odd.append(i)"
      ],
      "execution_count": 5,
      "outputs": []
    },
    {
      "cell_type": "code",
      "metadata": {
        "colab": {
          "base_uri": "https://localhost:8080/"
        },
        "id": "2eNhCC6Qa-eV",
        "outputId": "6eeae0c2-5375-49f8-f175-fbd32c30d3dd"
      },
      "source": [
        "even"
      ],
      "execution_count": 6,
      "outputs": [
        {
          "output_type": "execute_result",
          "data": {
            "text/plain": [
              "[0,\n",
              " 2,\n",
              " 4,\n",
              " 6,\n",
              " 8,\n",
              " 10,\n",
              " 12,\n",
              " 14,\n",
              " 16,\n",
              " 18,\n",
              " 20,\n",
              " 22,\n",
              " 24,\n",
              " 26,\n",
              " 28,\n",
              " 30,\n",
              " 32,\n",
              " 34,\n",
              " 36,\n",
              " 38,\n",
              " 40,\n",
              " 42,\n",
              " 44,\n",
              " 46,\n",
              " 48,\n",
              " 50,\n",
              " 52,\n",
              " 54,\n",
              " 56,\n",
              " 58,\n",
              " 60,\n",
              " 62,\n",
              " 64,\n",
              " 66,\n",
              " 68,\n",
              " 70,\n",
              " 72,\n",
              " 74,\n",
              " 76,\n",
              " 78,\n",
              " 80,\n",
              " 82,\n",
              " 84,\n",
              " 86,\n",
              " 88,\n",
              " 90,\n",
              " 92,\n",
              " 94,\n",
              " 96,\n",
              " 98]"
            ]
          },
          "metadata": {
            "tags": []
          },
          "execution_count": 6
        }
      ]
    },
    {
      "cell_type": "code",
      "metadata": {
        "colab": {
          "base_uri": "https://localhost:8080/"
        },
        "id": "Chwbr0bDbRyL",
        "outputId": "0447b5d2-dcf9-48e7-ec44-337a3997ee83"
      },
      "source": [
        "odd"
      ],
      "execution_count": 7,
      "outputs": [
        {
          "output_type": "execute_result",
          "data": {
            "text/plain": [
              "[1,\n",
              " 3,\n",
              " 5,\n",
              " 7,\n",
              " 9,\n",
              " 11,\n",
              " 13,\n",
              " 15,\n",
              " 17,\n",
              " 19,\n",
              " 21,\n",
              " 23,\n",
              " 25,\n",
              " 27,\n",
              " 29,\n",
              " 31,\n",
              " 33,\n",
              " 35,\n",
              " 37,\n",
              " 39,\n",
              " 41,\n",
              " 43,\n",
              " 45,\n",
              " 47,\n",
              " 49,\n",
              " 51,\n",
              " 53,\n",
              " 55,\n",
              " 57,\n",
              " 59,\n",
              " 61,\n",
              " 63,\n",
              " 65,\n",
              " 67,\n",
              " 69,\n",
              " 71,\n",
              " 73,\n",
              " 75,\n",
              " 77,\n",
              " 79,\n",
              " 81,\n",
              " 83,\n",
              " 85,\n",
              " 87,\n",
              " 89,\n",
              " 91,\n",
              " 93,\n",
              " 95,\n",
              " 97,\n",
              " 99]"
            ]
          },
          "metadata": {
            "tags": []
          },
          "execution_count": 7
        }
      ]
    },
    {
      "cell_type": "code",
      "metadata": {
        "colab": {
          "base_uri": "https://localhost:8080/"
        },
        "id": "o2m5iaSq-S4L",
        "outputId": "1cc76a5c-31f8-4797-ae8e-8015efc5a798"
      },
      "source": [
        "mylist = odd + even\r\n",
        "mylist\r\n",
        "mylist.sort()\r\n",
        "mylist"
      ],
      "execution_count": 10,
      "outputs": [
        {
          "output_type": "execute_result",
          "data": {
            "text/plain": [
              "[0,\n",
              " 1,\n",
              " 2,\n",
              " 3,\n",
              " 4,\n",
              " 5,\n",
              " 6,\n",
              " 7,\n",
              " 8,\n",
              " 9,\n",
              " 10,\n",
              " 11,\n",
              " 12,\n",
              " 13,\n",
              " 14,\n",
              " 15,\n",
              " 16,\n",
              " 17,\n",
              " 18,\n",
              " 19,\n",
              " 20,\n",
              " 21,\n",
              " 22,\n",
              " 23,\n",
              " 24,\n",
              " 25,\n",
              " 26,\n",
              " 27,\n",
              " 28,\n",
              " 29,\n",
              " 30,\n",
              " 31,\n",
              " 32,\n",
              " 33,\n",
              " 34,\n",
              " 35,\n",
              " 36,\n",
              " 37,\n",
              " 38,\n",
              " 39,\n",
              " 40,\n",
              " 41,\n",
              " 42,\n",
              " 43,\n",
              " 44,\n",
              " 45,\n",
              " 46,\n",
              " 47,\n",
              " 48,\n",
              " 49,\n",
              " 50,\n",
              " 51,\n",
              " 52,\n",
              " 53,\n",
              " 54,\n",
              " 55,\n",
              " 56,\n",
              " 57,\n",
              " 58,\n",
              " 59,\n",
              " 60,\n",
              " 61,\n",
              " 62,\n",
              " 63,\n",
              " 64,\n",
              " 65,\n",
              " 66,\n",
              " 67,\n",
              " 68,\n",
              " 69,\n",
              " 70,\n",
              " 71,\n",
              " 72,\n",
              " 73,\n",
              " 74,\n",
              " 75,\n",
              " 76,\n",
              " 77,\n",
              " 78,\n",
              " 79,\n",
              " 80,\n",
              " 81,\n",
              " 82,\n",
              " 83,\n",
              " 84,\n",
              " 85,\n",
              " 86,\n",
              " 87,\n",
              " 88,\n",
              " 89,\n",
              " 90,\n",
              " 91,\n",
              " 92,\n",
              " 93,\n",
              " 94,\n",
              " 95,\n",
              " 96,\n",
              " 97,\n",
              " 98,\n",
              " 99]"
            ]
          },
          "metadata": {
            "tags": []
          },
          "execution_count": 10
        }
      ]
    },
    {
      "cell_type": "code",
      "metadata": {
        "colab": {
          "base_uri": "https://localhost:8080/"
        },
        "id": "jSy27KKa-r14",
        "outputId": "a25c9626-a11f-4058-bd44-7a53c9e0dd68"
      },
      "source": [
        "for i in range(len(mylist)):\r\n",
        "  mylist[i]  = mylist[i]*2\r\n",
        "mylist"
      ],
      "execution_count": 12,
      "outputs": [
        {
          "output_type": "execute_result",
          "data": {
            "text/plain": [
              "[0,\n",
              " 2,\n",
              " 4,\n",
              " 6,\n",
              " 8,\n",
              " 10,\n",
              " 12,\n",
              " 14,\n",
              " 16,\n",
              " 18,\n",
              " 20,\n",
              " 22,\n",
              " 24,\n",
              " 26,\n",
              " 28,\n",
              " 30,\n",
              " 32,\n",
              " 34,\n",
              " 36,\n",
              " 38,\n",
              " 40,\n",
              " 42,\n",
              " 44,\n",
              " 46,\n",
              " 48,\n",
              " 50,\n",
              " 52,\n",
              " 54,\n",
              " 56,\n",
              " 58,\n",
              " 60,\n",
              " 62,\n",
              " 64,\n",
              " 66,\n",
              " 68,\n",
              " 70,\n",
              " 72,\n",
              " 74,\n",
              " 76,\n",
              " 78,\n",
              " 80,\n",
              " 82,\n",
              " 84,\n",
              " 86,\n",
              " 88,\n",
              " 90,\n",
              " 92,\n",
              " 94,\n",
              " 96,\n",
              " 98,\n",
              " 100,\n",
              " 102,\n",
              " 104,\n",
              " 106,\n",
              " 108,\n",
              " 110,\n",
              " 112,\n",
              " 114,\n",
              " 116,\n",
              " 118,\n",
              " 120,\n",
              " 122,\n",
              " 124,\n",
              " 126,\n",
              " 128,\n",
              " 130,\n",
              " 132,\n",
              " 134,\n",
              " 136,\n",
              " 138,\n",
              " 140,\n",
              " 142,\n",
              " 144,\n",
              " 146,\n",
              " 148,\n",
              " 150,\n",
              " 152,\n",
              " 154,\n",
              " 156,\n",
              " 158,\n",
              " 160,\n",
              " 162,\n",
              " 164,\n",
              " 166,\n",
              " 168,\n",
              " 170,\n",
              " 172,\n",
              " 174,\n",
              " 176,\n",
              " 178,\n",
              " 180,\n",
              " 182,\n",
              " 184,\n",
              " 186,\n",
              " 188,\n",
              " 190,\n",
              " 192,\n",
              " 194,\n",
              " 196,\n",
              " 198]"
            ]
          },
          "metadata": {
            "tags": []
          },
          "execution_count": 12
        }
      ]
    },
    {
      "cell_type": "markdown",
      "metadata": {
        "id": "EMal8ByI_JTx"
      },
      "source": [
        "Ödev Tamamlanmıştır."
      ]
    },
    {
      "cell_type": "code",
      "metadata": {
        "id": "dCWFVLy8_LXX"
      },
      "source": [
        ""
      ],
      "execution_count": null,
      "outputs": []
    }
  ]
}