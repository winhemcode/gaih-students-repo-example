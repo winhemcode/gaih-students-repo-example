{
  "nbformat": 4,
  "nbformat_minor": 0,
  "metadata": {
    "colab": {
      "name": "odev2.jpynb adlı not defterinin kopyası",
      "provenance": [],
      "collapsed_sections": []
    },
    "kernelspec": {
      "name": "python3",
      "display_name": "Python 3"
    }
  },
  "cells": [
    {
      "cell_type": "markdown",
      "metadata": {
        "id": "FaoZtWQtGxmu"
      },
      "source": [
        "Global AI Hub 2. Ödev Kerem Basmacı\r\n",
        "Mail: kerembasmaci.20@gmail.com"
      ]
    },
    {
      "cell_type": "markdown",
      "metadata": {
        "id": "8a44_3ilHETS"
      },
      "source": [
        "![HW2.png](data:image/png;base64,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)"
      ]
    },
    {
      "cell_type": "code",
      "metadata": {
        "id": "dCWFVLy8_LXX"
      },
      "source": [
        "cv0 = {}\r\n",
        "cv1 = {}\r\n",
        "cv2 = {}\r\n",
        "cv3 = {}\r\n",
        "cv4 = {}"
      ],
      "execution_count": null,
      "outputs": []
    },
    {
      "cell_type": "code",
      "metadata": {
        "id": "g_BkWO38Ff5z"
      },
      "source": [
        "cv0 = {\"id\" : 0,\r\n",
        "        \"Name\" : \"Kerem\",\r\n",
        "        \"Age\" : 26,\r\n",
        "        \"Degree\" : \"Electronics Engineering\",\r\n",
        "        \"Experience\" : \"1 Years\",\r\n",
        "        \"Driving Licence\" : \"Yes\",\r\n",
        "        \"Skills\" : \"AI Programming, Image Processing, Artifical Neural Networks\" \r\n",
        "     }"
      ],
      "execution_count": null,
      "outputs": []
    },
    {
      "cell_type": "code",
      "metadata": {
        "id": "T77H8qEKW9T8"
      },
      "source": [
        "cv1 = {\"id\" : 1,\r\n",
        "        \"Name\" : \"Aslı\",\r\n",
        "        \"Age\" : 26,\r\n",
        "        \"Degree\" : \"Computer Engineering\",\r\n",
        "        \"Experience\" : \"2 Years\",\r\n",
        "        \"Driving Licence\" : \"No\",\r\n",
        "        \"Skills\" : \"Front-End Programming, React, Angular\" \r\n",
        "     }"
      ],
      "execution_count": null,
      "outputs": []
    },
    {
      "cell_type": "code",
      "metadata": {
        "id": "I7vqePGeXLcd"
      },
      "source": [
        "cv2 = {\"id\" : 2,\r\n",
        "        \"Name\" : \"Mehmet\",\r\n",
        "        \"Age\" : 30,\r\n",
        "        \"Degree\" : \"Computer Engineering\",\r\n",
        "        \"Experience\" : \"5 Years\",\r\n",
        "        \"Driving Licence\" : \"Yes\",\r\n",
        "        \"Skills\" : \"Back-End Programming, Databases, Data Science\" \r\n",
        "     }"
      ],
      "execution_count": null,
      "outputs": []
    },
    {
      "cell_type": "code",
      "metadata": {
        "id": "SKLpuGkXXYIi"
      },
      "source": [
        "cv3 = {\"id\" : 3,\r\n",
        "        \"Name\" : \"Didem\",\r\n",
        "        \"Age\" : 28,\r\n",
        "        \"Degree\" : \"Business Administration\",\r\n",
        "        \"Experience\" : \"2 Years\",\r\n",
        "        \"Driving Licence\" : \"Yes\",\r\n",
        "        \"Skills\" : \"Game Designing, Level Designing, UI and UX Designing\" \r\n",
        "     }"
      ],
      "execution_count": null,
      "outputs": []
    },
    {
      "cell_type": "code",
      "metadata": {
        "id": "rJrMfkQSYpdC"
      },
      "source": [
        "cv4 = {\"id\" : 4,\r\n",
        "        \"Name\" : \"Hilal\",\r\n",
        "        \"Age\" : 35,\r\n",
        "        \"Degree\" : \"Industrial Engineering\",\r\n",
        "        \"Experience\" : \"10 Years\",\r\n",
        "        \"Driving Licence\" : \"Yes\",\r\n",
        "        \"Skills\" : \"Cyber Security, Penetration Tester, Virus Analyzer , Network Expert \" \r\n",
        "     }"
      ],
      "execution_count": null,
      "outputs": []
    },
    {
      "cell_type": "code",
      "metadata": {
        "colab": {
          "base_uri": "https://localhost:8080/"
        },
        "id": "YxhwiI9gWB1S",
        "outputId": "3c84f6b8-dec7-4d98-ddd3-cf7e8a38348d"
      },
      "source": [
        "for k,v in cv0.items():\r\n",
        "  print(str(k)+\" : \"+str(str(v)))\r\n",
        "print(\"\\n\")"
      ],
      "execution_count": null,
      "outputs": [
        {
          "output_type": "stream",
          "text": [
            "id : 0\n",
            "Name : Kerem\n",
            "Age : 26\n",
            "Degree : Electronics Engineering\n",
            "Experience : 1 Years\n",
            "Driving Licence : Yes\n",
            "Skills : AI Programming, Image Processing, Artifical Neural Networks\n",
            "\n",
            "\n"
          ],
          "name": "stdout"
        }
      ]
    },
    {
      "cell_type": "code",
      "metadata": {
        "colab": {
          "base_uri": "https://localhost:8080/"
        },
        "id": "3X13_5koZrwb",
        "outputId": "8e3819db-32bc-4af2-8549-2bcbc57cb74b"
      },
      "source": [
        "for k,v in cv1.items():\r\n",
        "  print(str(k)+\" : \"+str(str(v)))\r\n",
        "print(\"\\n\")"
      ],
      "execution_count": null,
      "outputs": [
        {
          "output_type": "stream",
          "text": [
            "id : 1\n",
            "Name : Aslı\n",
            "Age : 26\n",
            "Degree : Computer Engineering\n",
            "Experience : 2 Years\n",
            "Driving Licence : No\n",
            "Skills : Front-End Programming, React, Angular\n",
            "\n",
            "\n"
          ],
          "name": "stdout"
        }
      ]
    },
    {
      "cell_type": "code",
      "metadata": {
        "colab": {
          "base_uri": "https://localhost:8080/"
        },
        "id": "2hjK8SgWZu0T",
        "outputId": "93b3bd03-1e03-4552-e8dd-e34239f7f0dd"
      },
      "source": [
        "for k,v in cv2.items():\r\n",
        "  print(str(k)+\" : \"+str(str(v)))\r\n",
        "print(\"\\n\")"
      ],
      "execution_count": null,
      "outputs": [
        {
          "output_type": "stream",
          "text": [
            "id : 2\n",
            "Name : Mehmet\n",
            "Age : 30\n",
            "Degree : Computer Engineering\n",
            "Experience : 5 Years\n",
            "Driving Licence : Yes\n",
            "Skills : Back-End Programming, Databases, Data Science\n",
            "\n",
            "\n"
          ],
          "name": "stdout"
        }
      ]
    },
    {
      "cell_type": "code",
      "metadata": {
        "colab": {
          "base_uri": "https://localhost:8080/"
        },
        "id": "4vbY24KvZxHC",
        "outputId": "ae12e166-cdd5-42a7-dccc-c8dbc8dbfcf0"
      },
      "source": [
        "for k,v in cv3.items():\r\n",
        "  print(str(k)+\" : \"+str(str(v)))\r\n",
        "print(\"\\n\")"
      ],
      "execution_count": null,
      "outputs": [
        {
          "output_type": "stream",
          "text": [
            "id : 3\n",
            "Name : Didem\n",
            "Age : 28\n",
            "Degree : Business Administration\n",
            "Experience : 2 Years\n",
            "Driving Licence : Yes\n",
            "Skills : Game Designing, Level Designing, UI and UX Designing\n",
            "\n",
            "\n"
          ],
          "name": "stdout"
        }
      ]
    },
    {
      "cell_type": "code",
      "metadata": {
        "colab": {
          "base_uri": "https://localhost:8080/"
        },
        "id": "Mi8iornXZzT6",
        "outputId": "810a1089-1bb4-40ad-c5d0-4afb3b5f1646"
      },
      "source": [
        "for k,v in cv4.items():\r\n",
        "  print(str(k)+\" : \"+str(str(v)))\r\n",
        "print(\"\\n\")  "
      ],
      "execution_count": null,
      "outputs": [
        {
          "output_type": "stream",
          "text": [
            "id : 4\n",
            "Name : Hilal\n",
            "Age : 35\n",
            "Degree : Industrial Engineering\n",
            "Experience : 10 Years\n",
            "Driving Licence : Yes\n",
            "Skills : Cyber Security, Penetration Tester, Virus Analyzer , Network Expert \n",
            "\n",
            "\n"
          ],
          "name": "stdout"
        }
      ]
    },
    {
      "cell_type": "markdown",
      "metadata": {
        "id": "Tzef9VM8Z9J9"
      },
      "source": [
        "Ödev Tamamlanmıştır."
      ]
    }
  ]
}